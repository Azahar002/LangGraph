{
 "cells": [
  {
   "cell_type": "code",
   "execution_count": 25,
   "metadata": {},
   "outputs": [],
   "source": [
    "from langgraph.graph import StateGraph, START, END\n",
    "from langchain_openai import ChatOpenAI\n",
    "from typing import TypedDict\n",
    "from dotenv import load_dotenv"
   ]
  },
  {
   "cell_type": "code",
   "execution_count": 26,
   "metadata": {},
   "outputs": [
    {
     "data": {
      "text/plain": [
       "True"
      ]
     },
     "execution_count": 26,
     "metadata": {},
     "output_type": "execute_result"
    }
   ],
   "source": [
    "load_dotenv()"
   ]
  },
  {
   "cell_type": "code",
   "execution_count": 27,
   "metadata": {},
   "outputs": [],
   "source": [
    "model = ChatOpenAI()"
   ]
  },
  {
   "cell_type": "code",
   "execution_count": 28,
   "metadata": {},
   "outputs": [],
   "source": [
    "class BlogState(TypedDict):\n",
    "    title : str\n",
    "    outline: str\n",
    "    content: str\n",
    "    score: int"
   ]
  },
  {
   "cell_type": "code",
   "execution_count": 33,
   "metadata": {},
   "outputs": [],
   "source": [
    "def create_outline(state: BlogState) -> BlogState:\n",
    "    #fetch title\n",
    "    title = state['title']\n",
    "    #call llm gen outline\n",
    "    prompt = f'Generate an Outline for a blog on the Topic - {title}'\n",
    "    outline = model.invoke(prompt).content\n",
    "    #update state\n",
    "    state['outline'] = outline\n",
    "\n",
    "    return state\n",
    "\n",
    "\n",
    "def create_blog(state: BlogState) -> BlogState:\n",
    "    title = state['title']\n",
    "    outline = state['outline']\n",
    "\n",
    "    prompt = f'Write a detailed blog on the title - {title}, using the following outline \\n {outline}'\n",
    "    content = model.invoke(prompt).content\n",
    "    state['content'] = content\n",
    "    return state\n",
    "\n",
    "def evaluate_blog(state: BlogState) -> BlogState:\n",
    "    content = state['content'] \n",
    "    outline = state['outline']\n",
    "    prompt = f'Rate out of 10. ONly return integer my Blog based on its outline \\n outline - {outline} \\n\\n content - {content}'\n",
    "    score = model.invoke(prompt).content\n",
    "    state['score'] = score\n",
    "    return state\n"
   ]
  },
  {
   "cell_type": "code",
   "execution_count": 34,
   "metadata": {},
   "outputs": [],
   "source": [
    "graph = StateGraph(BlogState)\n",
    "\n",
    "graph.add_node('create_outline', create_outline)\n",
    "graph.add_node('create_blog', create_blog)\n",
    "graph.add_node('evaluate_blog', evaluate_blog)\n",
    "\n",
    "graph.add_edge(START, \"create_outline\")\n",
    "graph.add_edge(\"create_outline\", 'create_blog')\n",
    "graph.add_edge('create_blog', \"evaluate_blog\")\n",
    "graph.add_edge('evaluate_blog', END)\n",
    "\n",
    "\n",
    "workflow = graph.compile()\n"
   ]
  },
  {
   "cell_type": "code",
   "execution_count": 35,
   "metadata": {},
   "outputs": [
    {
     "name": "stdout",
     "output_type": "stream",
     "text": [
      "{'title': 'Rise of Musa AS', 'outline': \"I. Introduction\\n    A. Brief overview of Musa AS\\n    B. Importance of Musa AS in Islamic history\\nII. Early Life of Musa AS\\n    A. Birth and childhood\\n    B. Upbringing and education\\nIII. Mission as a Prophet\\n    A. Revelation and calling to Prophethood\\n    B. Challenges faced in delivering the message\\nIV. Miracles of Musa AS\\n    A. Splitting of the sea\\n    B. Staff turning into a serpent\\nV. The Exodus and Liberation of the Israelites\\n    A. Escape from Egypt\\n    B. Crossing the Red Sea\\nVI. Leadership and Governance\\n    A. Establishing laws and guidelines for the Israelites\\n    B. Prophetic teachings and guidance\\nVII. Legacy of Musa AS\\n    A. Influence on future prophets\\n    B. Lessons to be learned from his life and teachings\\nVIII. Conclusion\\n    A. Recap of Musa AS's significance\\n    B. Call to reflect on his story and apply lessons in daily life.\", 'content': \"I. Introduction\\n\\nMusa AS, known in English as Moses, is considered one of the most important prophets in Islam. He holds a significant place in Islamic history and is mentioned numerous times in the Quran. Musa AS's story is filled with lessons, wisdom, and miracles that continue to inspire and guide Muslims around the world. In this blog, we will delve into the life of Musa AS, his mission as a prophet, his miracles, the Exodus and liberation of the Israelites, his leadership and governance, and his lasting legacy.\\n\\nII. Early Life of Musa AS\\n\\nMusa AS was born during a time when Pharaoh was ruling Egypt and persecuting the Children of Israel. His mother, fearing for his safety, placed him in a basket on the river Nile. He was found by Pharaoh's wife, who raised him in the palace as her own son. Despite his royal upbringing, Musa AS never forgot his true identity and the plight of his people. He was known for his strength, righteousness, and humility.\\n\\nIII. Mission as a Prophet\\n\\nWhen Musa AS reached adulthood, Allah revealed to him that he was chosen as a prophet to deliver a message to Pharaoh and the people of Egypt. Musa AS faced many challenges in fulfilling his mission, including the disbelief of Pharaoh and his people, who refused to heed his warnings and signs. Despite the hardships, Musa AS remained steadfast in his faith and dedication to Allah.\\n\\nIV. Miracles of Musa AS\\n\\nOne of the most well-known miracles of Musa AS is the splitting of the sea, which allowed the Children of Israel to escape from Pharaoh's army. Another significant miracle was when Musa AS's staff transformed into a serpent, proving his divine appointment as a prophet.\\n\\nV. The Exodus and Liberation of the Israelites\\n\\nAfter enduring years of oppression in Egypt, Musa AS led the Children of Israel in their escape from captivity. With the help of Allah, they crossed the Red Sea safely, while Pharaoh and his army were drowned. This event is commemorated by Muslims during the holiday of Ashura.\\n\\nVI. Leadership and Governance\\n\\nMusa AS was not only a prophet but also a leader and lawgiver for the Israelites. He established laws and guidelines for his people, including the Ten Commandments, which emphasized monotheism, morality, and social justice. Musa AS's prophetic teachings continue to serve as a source of guidance for Muslims today.\\n\\nVII. Legacy of Musa AS\\n\\nMusa AS's story and teachings have influenced future prophets and leaders in Islam, including Prophet Muhammad (peace be upon him). His unwavering faith, courage, and dedication to justice serve as an example for all believers. Muslims are encouraged to reflect on Musa AS's life and apply the lessons learned to their own lives.\\n\\nVIII. Conclusion\\n\\nIn conclusion, Musa AS's significance in Islamic history cannot be overstated. His story is a testament to the power of faith, perseverance, and righteousness in the face of adversity. By studying the life of Musa AS, we can gain valuable insights into how to navigate life's challenges and strive for a closer relationship with Allah. Let us remember Musa AS and the path he walked, and may we apply the lessons he left behind in our daily lives.\", 'score': 'I would rate this blog outline a 9 out of 10.'}\n"
     ]
    }
   ],
   "source": [
    " initial_state = {'title': \"Rise of Musa AS\"}\n",
    " final_state = workflow.invoke(initial_state)\n",
    "\n",
    " print(final_state)"
   ]
  },
  {
   "cell_type": "code",
   "execution_count": 36,
   "metadata": {},
   "outputs": [
    {
     "name": "stdout",
     "output_type": "stream",
     "text": [
      "I would rate this blog outline a 9 out of 10.\n"
     ]
    }
   ],
   "source": [
    "print(final_state['score'])"
   ]
  },
  {
   "cell_type": "code",
   "execution_count": 11,
   "metadata": {},
   "outputs": [
    {
     "name": "stdout",
     "output_type": "stream",
     "text": [
      "The story of Musa AS, also known as Moses in the Bible, holds a significant place in Islamic history and serves as a source of inspiration and guidance for Muslims around the world. His rise from humble beginnings to becoming one of the greatest prophets in Islam is a testament to his unwavering faith and commitment to serving Allah. In this blog, we will delve into the life of Musa AS, exploring the key events that shaped his journey and examining the lasting impact of his leadership and legacy.\n",
      "\n",
      "Musa AS was born during a time when the Israelites were enslaved by the mighty Pharaoh of Egypt. Despite being raised in the palace of Pharaoh, Musa AS remained connected to his roots and was eventually guided by Allah to his true calling as a prophet. His early life was marred by an incident where he accidentally killed an Egyptian man who was oppressing an Israelite. Fearing for his life, Musa AS fled to the land of Midian where he married and tended to sheep for several years.\n",
      "\n",
      "It was during his time in Midian that Musa AS received a divine revelation from Allah in the form of a burning bush. This encounter marked the beginning of his prophethood and his mission to free the Israelites from the tyranny of Pharaoh. Armed with the support of his brother Harun AS, Musa AS confronted Pharaoh and challenged his authority through a series of miracles, including the splitting of the Red Sea and the sending of plagues upon Egypt.\n",
      "\n",
      "One of the most defining moments of Musa AS's leadership was when he ascended Mount Sinai and received the Ten Commandments from Allah. These commandments served as a guide for the Israelites and emphasized the importance of moral conduct and worshiping one true God. Throughout his journey, Musa AS displayed unwavering patience and steadfastness in the face of adversity, serving as a role model for all believers.\n",
      "\n",
      "The legacy of Musa AS extends beyond his own lifetime, influencing future prophets and leaders who followed in his footsteps. His story serves as a reminder of the power of faith and perseverance in the face of oppression and injustice. The lessons learned from his experiences continue to inspire Muslims today to stand up for what is right and uphold the values of justice and compassion.\n",
      "\n",
      "In conclusion, the rise of Musa AS is a pivotal chapter in Islamic history that exemplifies the strength of faith and the importance of standing up for truth and justice. His legacy lives on through the teachings of the Quran and serves as a source of guidance for all believers seeking to navigate the challenges of the modern world. May we all strive to embody the qualities of patience, determination, and courage that Musa AS exemplified in his quest to fulfill the mission entrusted to him by Allah.\n"
     ]
    }
   ],
   "source": [
    "print(final_state['content'])"
   ]
  },
  {
   "cell_type": "code",
   "execution_count": null,
   "metadata": {},
   "outputs": [
    {
     "name": "stdout",
     "output_type": "stream",
     "text": [
      "The story of Musa AS, also known as Moses in the Bible, holds a significant place in Islamic history and serves as a source of inspiration and guidance for Muslims around the world. His rise from humble beginnings to becoming one of the greatest prophets in Islam is a testament to his unwavering faith and commitment to serving Allah. In this blog, we will delve into the life of Musa AS, exploring the key events that shaped his journey and examining the lasting impact of his leadership and legacy.\n",
      "\n",
      "Musa AS was born during a time when the Israelites were enslaved by the mighty Pharaoh of Egypt. Despite being raised in the palace of Pharaoh, Musa AS remained connected to his roots and was eventually guided by Allah to his true calling as a prophet. His early life was marred by an incident where he accidentally killed an Egyptian man who was oppressing an Israelite. Fearing for his life, Musa AS fled to the land of Midian where he married and tended to sheep for several years.\n",
      "\n",
      "It was during his time in Midian that Musa AS received a divine revelation from Allah in the form of a burning bush. This encounter marked the beginning of his prophethood and his mission to free the Israelites from the tyranny of Pharaoh. Armed with the support of his brother Harun AS, Musa AS confronted Pharaoh and challenged his authority through a series of miracles, including the splitting of the Red Sea and the sending of plagues upon Egypt.\n",
      "\n",
      "One of the most defining moments of Musa AS's leadership was when he ascended Mount Sinai and received the Ten Commandments from Allah. These commandments served as a guide for the Israelites and emphasized the importance of moral conduct and worshiping one true God. Throughout his journey, Musa AS displayed unwavering patience and steadfastness in the face of adversity, serving as a role model for all believers.\n",
      "\n",
      "The legacy of Musa AS extends beyond his own lifetime, influencing future prophets and leaders who followed in his footsteps. His story serves as a reminder of the power of faith and perseverance in the face of oppression and injustice. The lessons learned from his experiences continue to inspire Muslims today to stand up for what is right and uphold the values of justice and compassion.\n",
      "\n",
      "In conclusion, the rise of Musa AS is a pivotal chapter in Islamic history that exemplifies the strength of faith and the importance of standing up for truth and justice. His legacy lives on through the teachings of the Quran and serves as a source of guidance for all believers seeking to navigate the challenges of the modern world. May we all strive to embody the qualities of patience, determination, and courage that Musa AS exemplified in his quest to fulfill the mission entrusted to him by Allah.\n"
     ]
    }
   ],
   "source": [
    "print(final_state['content'])"
   ]
  },
  {
   "cell_type": "code",
   "execution_count": null,
   "metadata": {},
   "outputs": [
    {
     "name": "stdout",
     "output_type": "stream",
     "text": [
      "The story of Musa AS, also known as Moses in the Bible, holds a significant place in Islamic history and serves as a source of inspiration and guidance for Muslims around the world. His rise from humble beginnings to becoming one of the greatest prophets in Islam is a testament to his unwavering faith and commitment to serving Allah. In this blog, we will delve into the life of Musa AS, exploring the key events that shaped his journey and examining the lasting impact of his leadership and legacy.\n",
      "\n",
      "Musa AS was born during a time when the Israelites were enslaved by the mighty Pharaoh of Egypt. Despite being raised in the palace of Pharaoh, Musa AS remained connected to his roots and was eventually guided by Allah to his true calling as a prophet. His early life was marred by an incident where he accidentally killed an Egyptian man who was oppressing an Israelite. Fearing for his life, Musa AS fled to the land of Midian where he married and tended to sheep for several years.\n",
      "\n",
      "It was during his time in Midian that Musa AS received a divine revelation from Allah in the form of a burning bush. This encounter marked the beginning of his prophethood and his mission to free the Israelites from the tyranny of Pharaoh. Armed with the support of his brother Harun AS, Musa AS confronted Pharaoh and challenged his authority through a series of miracles, including the splitting of the Red Sea and the sending of plagues upon Egypt.\n",
      "\n",
      "One of the most defining moments of Musa AS's leadership was when he ascended Mount Sinai and received the Ten Commandments from Allah. These commandments served as a guide for the Israelites and emphasized the importance of moral conduct and worshiping one true God. Throughout his journey, Musa AS displayed unwavering patience and steadfastness in the face of adversity, serving as a role model for all believers.\n",
      "\n",
      "The legacy of Musa AS extends beyond his own lifetime, influencing future prophets and leaders who followed in his footsteps. His story serves as a reminder of the power of faith and perseverance in the face of oppression and injustice. The lessons learned from his experiences continue to inspire Muslims today to stand up for what is right and uphold the values of justice and compassion.\n",
      "\n",
      "In conclusion, the rise of Musa AS is a pivotal chapter in Islamic history that exemplifies the strength of faith and the importance of standing up for truth and justice. His legacy lives on through the teachings of the Quran and serves as a source of guidance for all believers seeking to navigate the challenges of the modern world. May we all strive to embody the qualities of patience, determination, and courage that Musa AS exemplified in his quest to fulfill the mission entrusted to him by Allah.\n"
     ]
    }
   ],
   "source": [
    "print(final_state['content'])"
   ]
  },
  {
   "cell_type": "code",
   "execution_count": null,
   "metadata": {},
   "outputs": [
    {
     "name": "stdout",
     "output_type": "stream",
     "text": [
      "The story of Musa AS, also known as Moses in the Bible, holds a significant place in Islamic history and serves as a source of inspiration and guidance for Muslims around the world. His rise from humble beginnings to becoming one of the greatest prophets in Islam is a testament to his unwavering faith and commitment to serving Allah. In this blog, we will delve into the life of Musa AS, exploring the key events that shaped his journey and examining the lasting impact of his leadership and legacy.\n",
      "\n",
      "Musa AS was born during a time when the Israelites were enslaved by the mighty Pharaoh of Egypt. Despite being raised in the palace of Pharaoh, Musa AS remained connected to his roots and was eventually guided by Allah to his true calling as a prophet. His early life was marred by an incident where he accidentally killed an Egyptian man who was oppressing an Israelite. Fearing for his life, Musa AS fled to the land of Midian where he married and tended to sheep for several years.\n",
      "\n",
      "It was during his time in Midian that Musa AS received a divine revelation from Allah in the form of a burning bush. This encounter marked the beginning of his prophethood and his mission to free the Israelites from the tyranny of Pharaoh. Armed with the support of his brother Harun AS, Musa AS confronted Pharaoh and challenged his authority through a series of miracles, including the splitting of the Red Sea and the sending of plagues upon Egypt.\n",
      "\n",
      "One of the most defining moments of Musa AS's leadership was when he ascended Mount Sinai and received the Ten Commandments from Allah. These commandments served as a guide for the Israelites and emphasized the importance of moral conduct and worshiping one true God. Throughout his journey, Musa AS displayed unwavering patience and steadfastness in the face of adversity, serving as a role model for all believers.\n",
      "\n",
      "The legacy of Musa AS extends beyond his own lifetime, influencing future prophets and leaders who followed in his footsteps. His story serves as a reminder of the power of faith and perseverance in the face of oppression and injustice. The lessons learned from his experiences continue to inspire Muslims today to stand up for what is right and uphold the values of justice and compassion.\n",
      "\n",
      "In conclusion, the rise of Musa AS is a pivotal chapter in Islamic history that exemplifies the strength of faith and the importance of standing up for truth and justice. His legacy lives on through the teachings of the Quran and serves as a source of guidance for all believers seeking to navigate the challenges of the modern world. May we all strive to embody the qualities of patience, determination, and courage that Musa AS exemplified in his quest to fulfill the mission entrusted to him by Allah.\n"
     ]
    }
   ],
   "source": [
    "print(final_state['content'])"
   ]
  },
  {
   "cell_type": "code",
   "execution_count": null,
   "metadata": {},
   "outputs": [
    {
     "name": "stdout",
     "output_type": "stream",
     "text": [
      "The story of Musa AS, also known as Moses in the Bible, holds a significant place in Islamic history and serves as a source of inspiration and guidance for Muslims around the world. His rise from humble beginnings to becoming one of the greatest prophets in Islam is a testament to his unwavering faith and commitment to serving Allah. In this blog, we will delve into the life of Musa AS, exploring the key events that shaped his journey and examining the lasting impact of his leadership and legacy.\n",
      "\n",
      "Musa AS was born during a time when the Israelites were enslaved by the mighty Pharaoh of Egypt. Despite being raised in the palace of Pharaoh, Musa AS remained connected to his roots and was eventually guided by Allah to his true calling as a prophet. His early life was marred by an incident where he accidentally killed an Egyptian man who was oppressing an Israelite. Fearing for his life, Musa AS fled to the land of Midian where he married and tended to sheep for several years.\n",
      "\n",
      "It was during his time in Midian that Musa AS received a divine revelation from Allah in the form of a burning bush. This encounter marked the beginning of his prophethood and his mission to free the Israelites from the tyranny of Pharaoh. Armed with the support of his brother Harun AS, Musa AS confronted Pharaoh and challenged his authority through a series of miracles, including the splitting of the Red Sea and the sending of plagues upon Egypt.\n",
      "\n",
      "One of the most defining moments of Musa AS's leadership was when he ascended Mount Sinai and received the Ten Commandments from Allah. These commandments served as a guide for the Israelites and emphasized the importance of moral conduct and worshiping one true God. Throughout his journey, Musa AS displayed unwavering patience and steadfastness in the face of adversity, serving as a role model for all believers.\n",
      "\n",
      "The legacy of Musa AS extends beyond his own lifetime, influencing future prophets and leaders who followed in his footsteps. His story serves as a reminder of the power of faith and perseverance in the face of oppression and injustice. The lessons learned from his experiences continue to inspire Muslims today to stand up for what is right and uphold the values of justice and compassion.\n",
      "\n",
      "In conclusion, the rise of Musa AS is a pivotal chapter in Islamic history that exemplifies the strength of faith and the importance of standing up for truth and justice. His legacy lives on through the teachings of the Quran and serves as a source of guidance for all believers seeking to navigate the challenges of the modern world. May we all strive to embody the qualities of patience, determination, and courage that Musa AS exemplified in his quest to fulfill the mission entrusted to him by Allah.\n"
     ]
    }
   ],
   "source": [
    "print(final_state['content'])"
   ]
  },
  {
   "cell_type": "code",
   "execution_count": null,
   "metadata": {},
   "outputs": [
    {
     "name": "stdout",
     "output_type": "stream",
     "text": [
      "The story of Musa AS, also known as Moses in the Bible, holds a significant place in Islamic history and serves as a source of inspiration and guidance for Muslims around the world. His rise from humble beginnings to becoming one of the greatest prophets in Islam is a testament to his unwavering faith and commitment to serving Allah. In this blog, we will delve into the life of Musa AS, exploring the key events that shaped his journey and examining the lasting impact of his leadership and legacy.\n",
      "\n",
      "Musa AS was born during a time when the Israelites were enslaved by the mighty Pharaoh of Egypt. Despite being raised in the palace of Pharaoh, Musa AS remained connected to his roots and was eventually guided by Allah to his true calling as a prophet. His early life was marred by an incident where he accidentally killed an Egyptian man who was oppressing an Israelite. Fearing for his life, Musa AS fled to the land of Midian where he married and tended to sheep for several years.\n",
      "\n",
      "It was during his time in Midian that Musa AS received a divine revelation from Allah in the form of a burning bush. This encounter marked the beginning of his prophethood and his mission to free the Israelites from the tyranny of Pharaoh. Armed with the support of his brother Harun AS, Musa AS confronted Pharaoh and challenged his authority through a series of miracles, including the splitting of the Red Sea and the sending of plagues upon Egypt.\n",
      "\n",
      "One of the most defining moments of Musa AS's leadership was when he ascended Mount Sinai and received the Ten Commandments from Allah. These commandments served as a guide for the Israelites and emphasized the importance of moral conduct and worshiping one true God. Throughout his journey, Musa AS displayed unwavering patience and steadfastness in the face of adversity, serving as a role model for all believers.\n",
      "\n",
      "The legacy of Musa AS extends beyond his own lifetime, influencing future prophets and leaders who followed in his footsteps. His story serves as a reminder of the power of faith and perseverance in the face of oppression and injustice. The lessons learned from his experiences continue to inspire Muslims today to stand up for what is right and uphold the values of justice and compassion.\n",
      "\n",
      "In conclusion, the rise of Musa AS is a pivotal chapter in Islamic history that exemplifies the strength of faith and the importance of standing up for truth and justice. His legacy lives on through the teachings of the Quran and serves as a source of guidance for all believers seeking to navigate the challenges of the modern world. May we all strive to embody the qualities of patience, determination, and courage that Musa AS exemplified in his quest to fulfill the mission entrusted to him by Allah.\n"
     ]
    }
   ],
   "source": [
    "print(final_state['content'])"
   ]
  },
  {
   "cell_type": "code",
   "execution_count": null,
   "metadata": {},
   "outputs": [],
   "source": []
  },
  {
   "cell_type": "code",
   "execution_count": null,
   "metadata": {},
   "outputs": [],
   "source": [
    "{'title': 'Rise of Musa AS', 'outline': \"I. Introduction \\n    A. Brief overview of Musa AS \\n    B. Importance of Musa AS in Islamic history \\nII. Early life of Musa AS \\n    A. Birth and upbringing \\n    B. Escape from Pharaoh's persecution \\nIII. Mission of Musa AS \\n    A. Call to Pharaoh to believe in one God \\n    B. Miracles performed by Musa AS \\nIV. Exodus of the Israelites \\n    A. Crossing of the Red Sea \\n    B. Challenges faced during the journey \\nV. Influence of Musa AS on later prophets \\n    A. Mention of Musa AS in the Quran \\n    B. Comparison with other prophets \\nVI. Legacy of Musa AS \\n    A. Impact on Islamic culture and teachings \\n    B. Lessons that can be learned from the story of Musa AS \\nVII. Conclusion \\n    A. Recap of Musa AS's importance \\n    B. Final thoughts on the rise of Musa AS in Islamic history\", 'content': \"I. Introduction\\n\\nMusa AS, also known as Moses in the Abrahamic religions, holds a significant place in Islamic history as one of the most prominent and revered prophets. His story is an essential component of the Islamic faith, and his teachings have had a lasting impact on Islamic culture and teachings. The rise of Musa AS is a compelling tale of courage, faith, and perseverance that continues to inspire Muslims around the world today.\\n\\nII. Early life of Musa AS\\n\\nMusa AS was born in ancient Egypt during a time when the Israelites were enslaved by Pharaoh. His mother, in fear for his life, placed him in a basket and set him afloat on the river Nile. He was found by Pharaoh's wife, who raised him as her own son. As he grew older, Musa AS became aware of his true identity and the plight of his people. He fled from Pharaoh's persecution and sought refuge in the wilderness, where he received his prophetic calling from Allah.\\n\\nIII. Mission of Musa AS\\n\\nMusa AS was tasked with a momentous mission – to deliver the message of monotheism to Pharaoh and to free the Israelites from their bondage. Despite facing numerous obstacles and challenges, Musa AS remained steadfast in his mission and called upon Pharaoh to believe in the oneness of Allah. He performed various miracles, such as parting the Red Sea and bringing forth water from a rock, to demonstrate the power of Allah and the truth of his message.\\n\\nIV. Exodus of the Israelites\\n\\nAfter Pharaoh refused to heed Musa AS's warnings, Allah sent down a series of plagues upon Egypt, culminating in the miraculous crossing of the Red Sea by the Israelites. Musa AS led his people through the wilderness, facing hunger, thirst, and other hardships along the way. Despite these challenges, Musa AS continued to guide and protect the Israelites until they reached the Promised Land.\\n\\nV. Influence of Musa AS on later prophets\\n\\nThe story of Musa AS is prominently featured in the Quran, where he is praised for his patience, humility, and devotion to Allah. He is often compared to other prophets, such as Muhammad, Ibrahim, and Isa, and serves as a role model for Muslims seeking to emulate his steadfastness in the face of adversity.\\n\\nVI. Legacy of Musa AS\\n\\nMusa AS's legacy endures in Islamic culture and teachings, where his story is often cited as an example of faith, courage, and resilience. His teachings on social justice, compassion, and the importance of fighting oppression continue to resonate with Muslims today. The story of Musa AS also provides valuable lessons on the importance of faith, perseverance, and trust in Allah in the face of adversity.\\n\\nVII. Conclusion\\n\\nThe rise of Musa AS in Islamic history is a testament to the enduring power of faith and the importance of standing up for justice and righteousness. His story serves as a source of inspiration for Muslims around the world, reminding them of the importance of remaining steadfast in the face of adversity and trusting in Allah's divine guidance. Musa AS's legacy continues to shape Islamic culture and teachings, making him a revered figure in the hearts and minds of believers.\"}\n"
   ]
  }
 ],
 "metadata": {
  "kernelspec": {
   "display_name": ".venv (3.11.4)",
   "language": "python",
   "name": "python3"
  },
  "language_info": {
   "codemirror_mode": {
    "name": "ipython",
    "version": 3
   },
   "file_extension": ".py",
   "mimetype": "text/x-python",
   "name": "python",
   "nbconvert_exporter": "python",
   "pygments_lexer": "ipython3",
   "version": "3.11.4"
  }
 },
 "nbformat": 4,
 "nbformat_minor": 2
}
